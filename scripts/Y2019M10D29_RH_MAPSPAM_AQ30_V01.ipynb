{
 "cells": [
  {
   "cell_type": "code",
   "execution_count": 1,
   "metadata": {
    "collapsed": true
   },
   "outputs": [],
   "source": [
    "\"\"\" Join Aqueduct 30 data to MAPSPAM and upload to gbq.\n",
    "-------------------------------------------------------------------------------\n",
    "\n",
    "Sample aqueduct 30 raster data using the centroids of the mapspam cells.\n",
    "\n",
    "\n",
    "\n",
    "Author: Rutger Hofste\n",
    "Date: 20191029\n",
    "Kernel: python35\n",
    "Docker: rutgerhofste/gisdocker:ubuntu16.04\n",
    "\n",
    "\"\"\"\n",
    "\n",
    "TESTING = 0\n",
    "\n",
    "SCRIPT_NAME = \"Y2019M10D29_RH_MAPSPAM_AQ30_V01\"\n",
    "OUTPUT_VERSION = 3\n",
    "\n",
    "BQ_PROJECT_ID = \"aqueduct30\"\n",
    "BQ_INPUT_DATASET = \"MAPSPAM_2010v1r0\"\n",
    "BQ_INPUT_TABLE_NAME = \"output_v05\"\n",
    "\n",
    "BQ_OUTPUT_DATASET = \"MAPSPAM_aqueduct\"\n",
    "\n",
    "GCS_INPUT_PATH_AQ30 = \"gs://aqueduct30_v01/Y2019M05D21_RH_AQ30VS21_Rasterize_AQ30_EE_V01/output_V06\"\n",
    "\n",
    "ec2_input_path = \"/volumes/data/{}/input_V{:02.0f}\".format(SCRIPT_NAME,OUTPUT_VERSION)\n",
    "ec2_output_path = \"/volumes/data/{}/output_V{:02.0f}\".format(SCRIPT_NAME,OUTPUT_VERSION)\n",
    "\n",
    "s3_output_path = \"s3://wri-projects/Aqueduct30/processData/{}/output_V{:02.0f}/\".format(SCRIPT_NAME,OUTPUT_VERSION)\n"
   ]
  },
  {
   "cell_type": "code",
   "execution_count": 2,
   "metadata": {},
   "outputs": [
    {
     "name": "stdout",
     "output_type": "stream",
     "text": [
      "Y2019M10D29 UTC 16:57\n"
     ]
    },
    {
     "data": {
      "text/plain": [
       "'3.5.4 |Anaconda, Inc.| (default, Nov 20 2017, 18:44:38) \\n[GCC 7.2.0]'"
      ]
     },
     "execution_count": 2,
     "metadata": {},
     "output_type": "execute_result"
    }
   ],
   "source": [
    "import time, datetime, sys\n",
    "dateString = time.strftime(\"Y%YM%mD%d\")\n",
    "timeString = time.strftime(\"UTC %H:%M\")\n",
    "start = datetime.datetime.now()\n",
    "print(dateString,timeString)\n",
    "sys.version"
   ]
  },
  {
   "cell_type": "code",
   "execution_count": 3,
   "metadata": {
    "collapsed": true
   },
   "outputs": [],
   "source": [
    "import os\n",
    "import subprocess\n",
    "import pandas as pd\n",
    "from tqdm import tqdm\n",
    "import rasterio\n",
    "from google.cloud import bigquery"
   ]
  },
  {
   "cell_type": "code",
   "execution_count": 4,
   "metadata": {
    "collapsed": true
   },
   "outputs": [],
   "source": [
    "os.environ[\"GOOGLE_APPLICATION_CREDENTIALS\"] = \"/.google.json\"\n",
    "os.environ[\"GOOGLE_CLOUD_PROJECT\"] = \"aqueduct30\"\n",
    "client = bigquery.Client(project=BQ_PROJECT_ID)"
   ]
  },
  {
   "cell_type": "code",
   "execution_count": 5,
   "metadata": {},
   "outputs": [
    {
     "name": "stdout",
     "output_type": "stream",
     "text": [
      "rm: cannot remove '/volumes/data/Y2019M10D29_RH_MAPSPAM_AQ30_V01/input_V03': No such file or directory\n",
      "rm: cannot remove '/volumes/data/Y2019M10D29_RH_MAPSPAM_AQ30_V01/output_V03': No such file or directory\n"
     ]
    }
   ],
   "source": [
    "!rm -r {ec2_input_path}\n",
    "!rm -r {ec2_output_path}"
   ]
  },
  {
   "cell_type": "code",
   "execution_count": 6,
   "metadata": {
    "collapsed": true
   },
   "outputs": [],
   "source": [
    "os.makedirs(ec2_input_path,exist_ok=True)\n",
    "os.makedirs(ec2_output_path,exist_ok=True)"
   ]
  },
  {
   "cell_type": "code",
   "execution_count": 7,
   "metadata": {},
   "outputs": [
    {
     "name": "stdout",
     "output_type": "stream",
     "text": [
      "Copying gs://aqueduct30_v01/Y2019M05D21_RH_AQ30VS21_Rasterize_AQ30_EE_V01/output_V06/bwd_score.tif...\n",
      "Copying gs://aqueduct30_v01/Y2019M05D21_RH_AQ30VS21_Rasterize_AQ30_EE_V01/output_V06/bws_score.tif...\n",
      "Copying gs://aqueduct30_v01/Y2019M05D21_RH_AQ30VS21_Rasterize_AQ30_EE_V01/output_V06/cep_score.tif...\n",
      "Copying gs://aqueduct30_v01/Y2019M05D21_RH_AQ30VS21_Rasterize_AQ30_EE_V01/output_V06/cfr_score.tif...\n",
      "Copying gs://aqueduct30_v01/Y2019M05D21_RH_AQ30VS21_Rasterize_AQ30_EE_V01/output_V06/drr_score.tif...\n",
      "Copying gs://aqueduct30_v01/Y2019M05D21_RH_AQ30VS21_Rasterize_AQ30_EE_V01/output_V06/gtd_score.tif...\n",
      "Copying gs://aqueduct30_v01/Y2019M05D21_RH_AQ30VS21_Rasterize_AQ30_EE_V01/output_V06/owr_wf.tif...\n",
      "Copying gs://aqueduct30_v01/Y2019M05D21_RH_AQ30VS21_Rasterize_AQ30_EE_V01/output_V06/iav_score.tif...\n",
      "Copying gs://aqueduct30_v01/Y2019M05D21_RH_AQ30VS21_Rasterize_AQ30_EE_V01/output_V06/rfr_score.tif...\n",
      "Copying gs://aqueduct30_v01/Y2019M05D21_RH_AQ30VS21_Rasterize_AQ30_EE_V01/output_V06/owr_score.tif...\n",
      "Copying gs://aqueduct30_v01/Y2019M05D21_RH_AQ30VS21_Rasterize_AQ30_EE_V01/output_V06/rri_score.tif...\n",
      "Copying gs://aqueduct30_v01/Y2019M05D21_RH_AQ30VS21_Rasterize_AQ30_EE_V01/output_V06/sev_score.tif...\n",
      "Copying gs://aqueduct30_v01/Y2019M05D21_RH_AQ30VS21_Rasterize_AQ30_EE_V01/output_V06/ucw_score.tif...\n",
      "Copying gs://aqueduct30_v01/Y2019M05D21_RH_AQ30VS21_Rasterize_AQ30_EE_V01/output_V06/udw_score.tif...\n",
      "Copying gs://aqueduct30_v01/Y2019M05D21_RH_AQ30VS21_Rasterize_AQ30_EE_V01/output_V06/usa_score.tif...\n",
      "- [15/15 files][364.9 MiB/364.9 MiB] 100% Done                                  \n",
      "Operation completed over 15 objects/364.9 MiB.                                   \n"
     ]
    }
   ],
   "source": [
    "!gsutil -m cp -r {GCS_INPUT_PATH_AQ30}/* {ec2_input_path}"
   ]
  },
  {
   "cell_type": "code",
   "execution_count": 8,
   "metadata": {
    "collapsed": true
   },
   "outputs": [],
   "source": [
    "files = os.listdir(ec2_input_path)"
   ]
  },
  {
   "cell_type": "code",
   "execution_count": 9,
   "metadata": {},
   "outputs": [
    {
     "data": {
      "text/plain": [
       "['drr_score.tif',\n",
       " 'ucw_score.tif',\n",
       " 'cfr_score.tif',\n",
       " 'sev_score.tif',\n",
       " 'owr_score.tif',\n",
       " 'bws_score.tif',\n",
       " 'udw_score.tif',\n",
       " 'iav_score.tif',\n",
       " 'bwd_score.tif',\n",
       " 'gtd_score.tif',\n",
       " 'owr_wf.tif',\n",
       " 'cep_score.tif',\n",
       " 'rfr_score.tif',\n",
       " 'usa_score.tif',\n",
       " 'rri_score.tif']"
      ]
     },
     "execution_count": 9,
     "metadata": {},
     "output_type": "execute_result"
    }
   ],
   "source": [
    "files"
   ]
  },
  {
   "cell_type": "code",
   "execution_count": 10,
   "metadata": {
    "collapsed": true
   },
   "outputs": [],
   "source": [
    "sql = 'SELECT cell5m, x, y  FROM `{}.{}.{}` WHERE rec_type = \"A\" AND tech_type = \"A\"'.format(BQ_PROJECT_ID,BQ_INPUT_DATASET,BQ_INPUT_TABLE_NAME)"
   ]
  },
  {
   "cell_type": "code",
   "execution_count": 11,
   "metadata": {},
   "outputs": [
    {
     "name": "stdout",
     "output_type": "stream",
     "text": [
      "SELECT cell5m, x, y  FROM `aqueduct30.MAPSPAM_2010v1r0.output_v05` WHERE rec_type = \"A\" AND tech_type = \"A\"\n"
     ]
    }
   ],
   "source": [
    "print(sql)"
   ]
  },
  {
   "cell_type": "code",
   "execution_count": 12,
   "metadata": {
    "collapsed": true
   },
   "outputs": [],
   "source": [
    "df  = pd.read_gbq(query=sql,dialect=\"standard\")"
   ]
  },
  {
   "cell_type": "code",
   "execution_count": 13,
   "metadata": {},
   "outputs": [
    {
     "data": {
      "text/plain": [
       "(832904, 3)"
      ]
     },
     "execution_count": 13,
     "metadata": {},
     "output_type": "execute_result"
    }
   ],
   "source": [
    "df.shape"
   ]
  },
  {
   "cell_type": "code",
   "execution_count": 14,
   "metadata": {
    "collapsed": true
   },
   "outputs": [],
   "source": [
    "coords = [(x,y) for x, y in zip(df.x, df.y)]"
   ]
  },
  {
   "cell_type": "code",
   "execution_count": 15,
   "metadata": {
    "collapsed": true
   },
   "outputs": [],
   "source": [
    "def split_filename(filename):\n",
    "    base, extension = filename.split(\".\")\n",
    "    indicator, rest = base.split(\"_\")\n",
    "    return indicator, base, extension"
   ]
  },
  {
   "cell_type": "code",
   "execution_count": 16,
   "metadata": {},
   "outputs": [
    {
     "name": "stdout",
     "output_type": "stream",
     "text": [
      "drr_score.tif\n",
      "ucw_score.tif\n",
      "cfr_score.tif\n",
      "sev_score.tif\n",
      "owr_score.tif\n",
      "bws_score.tif\n",
      "udw_score.tif\n",
      "iav_score.tif\n",
      "bwd_score.tif\n",
      "gtd_score.tif\n",
      "owr_wf.tif\n",
      "cep_score.tif\n",
      "rfr_score.tif\n",
      "usa_score.tif\n",
      "rri_score.tif\n"
     ]
    }
   ],
   "source": [
    "for fname in files:\n",
    "    print(fname)\n",
    "    indicator, base, extension  = split_filename(fname)\n",
    "    input_path = \"{}/{}\".format(ec2_input_path,fname)\n",
    "    src = rasterio.open(input_path)\n",
    "    df[base] = [x for x in src.sample(coords)]\n",
    "    df[base] = df[base].apply(lambda x: x[0])"
   ]
  },
  {
   "cell_type": "code",
   "execution_count": 17,
   "metadata": {
    "collapsed": true
   },
   "outputs": [],
   "source": [
    "output_filename = \"Y2019M10D29_RH_MAPSPAM_AQ30_V01\""
   ]
  },
  {
   "cell_type": "code",
   "execution_count": 18,
   "metadata": {
    "collapsed": true
   },
   "outputs": [],
   "source": [
    "output_path = \"{}/{}.csv\".format(ec2_output_path,output_filename)"
   ]
  },
  {
   "cell_type": "code",
   "execution_count": 19,
   "metadata": {
    "collapsed": true
   },
   "outputs": [],
   "source": [
    "df.to_csv(output_path,encoding=\"UTF-8\")"
   ]
  },
  {
   "cell_type": "code",
   "execution_count": 20,
   "metadata": {},
   "outputs": [
    {
     "name": "stdout",
     "output_type": "stream",
     "text": [
      "upload: ../../../data/Y2019M10D29_RH_MAPSPAM_AQ30_V01/output_V03/Y2019M10D29_RH_MAPSPAM_AQ30_V01.csv to s3://wri-projects/Aqueduct30/processData/Y2019M10D29_RH_MAPSPAM_AQ30_V01/output_V03/Y2019M10D29_RH_MAPSPAM_AQ30_V01.csv\n"
     ]
    }
   ],
   "source": [
    "!aws s3 cp {ec2_output_path} {s3_output_path} --recursive"
   ]
  },
  {
   "cell_type": "code",
   "execution_count": 21,
   "metadata": {},
   "outputs": [],
   "source": [
    "destination_table = \"{}.{}\".format(BQ_OUTPUT_DATASET,\"{}_V{:02.0f}\".format(SCRIPT_NAME,OUTPUT_VERSION))"
   ]
  },
  {
   "cell_type": "code",
   "execution_count": 25,
   "metadata": {},
   "outputs": [
    {
     "name": "stderr",
     "output_type": "stream",
     "text": [
      "\n",
      "\n",
      "0it [00:00, ?it/s]\u001b[A\u001b[A\n",
      "\n",
      "1it [00:02,  2.45s/it]\u001b[A\u001b[A\n",
      "\n",
      "2it [00:30, 10.07s/it]\u001b[A\u001b[A\n",
      "\n",
      "3it [00:45, 11.61s/it]\u001b[A\u001b[A\n",
      "\n",
      "4it [01:06, 14.55s/it]\u001b[A\u001b[A\n",
      "\n",
      "5it [01:23, 15.06s/it]\u001b[A\u001b[A\n",
      "\n",
      "6it [01:39, 15.39s/it]\u001b[A\u001b[A\n",
      "\n",
      "7it [02:01, 17.37s/it]\u001b[A\u001b[A\n",
      "\n",
      "8it [02:16, 16.83s/it]\u001b[A\u001b[A\n",
      "\n",
      "9it [02:38, 18.13s/it]\u001b[A\u001b[A"
     ]
    }
   ],
   "source": [
    "df.to_gbq(destination_table=destination_table,\n",
    "          project_id=BQ_PROJECT_ID,\n",
    "          chunksize=100000,\n",
    "          if_exists=\"replace\")"
   ]
  },
  {
   "cell_type": "code",
   "execution_count": 26,
   "metadata": {},
   "outputs": [
    {
     "name": "stdout",
     "output_type": "stream",
     "text": [
      "0:25:21.794033\n"
     ]
    }
   ],
   "source": [
    "end = datetime.datetime.now()\n",
    "elapsed = end - start\n",
    "print(elapsed)"
   ]
  },
  {
   "cell_type": "markdown",
   "metadata": {
    "collapsed": true
   },
   "source": [
    "0:25:21.794033"
   ]
  },
  {
   "cell_type": "code",
   "execution_count": null,
   "metadata": {
    "collapsed": true
   },
   "outputs": [],
   "source": []
  }
 ],
 "metadata": {
  "kernelspec": {
   "display_name": "Python 35",
   "language": "python",
   "name": "python35"
  },
  "language_info": {
   "codemirror_mode": {
    "name": "ipython",
    "version": 3
   },
   "file_extension": ".py",
   "mimetype": "text/x-python",
   "name": "python",
   "nbconvert_exporter": "python",
   "pygments_lexer": "ipython3",
   "version": "3.5.4"
  }
 },
 "nbformat": 4,
 "nbformat_minor": 2
}

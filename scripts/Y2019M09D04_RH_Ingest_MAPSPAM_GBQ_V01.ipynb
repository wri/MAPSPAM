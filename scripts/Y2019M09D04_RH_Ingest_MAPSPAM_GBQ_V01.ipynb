{
 "cells": [
  {
   "cell_type": "code",
   "execution_count": 1,
   "metadata": {
    "collapsed": true
   },
   "outputs": [],
   "source": [
    "\"\"\" Ingest Mapspam 2010 data into google bigquery.\n",
    "-------------------------------------------------------------------------------\n",
    "\n",
    "Ingest all variables except value of production to \n",
    "Google Bigquery. The script changes the column names for the crops to allow \n",
    "vertical stacking. \n",
    "\n",
    "\n",
    "\n",
    "Author: Rutger Hofste\n",
    "Date: 20190904\n",
    "Kernel: python36\n",
    "Docker: rutgerhofste/gisdocker:ubuntu16.04\n",
    "\n",
    "\"\"\"\n",
    "TESTING = 0\n",
    "\n",
    "SCRIPT_NAME = \"Y2019M09D04_RH_Ingest_MAPSPAM_GBQ_V01\"\n",
    "OUTPUT_VERSION = 5\n",
    "\n",
    "BQ_PROJECT_ID = \"aqueduct30\"\n",
    "GCS_BUCKET = \"aqueduct30_v01\"\n",
    "PREFIX = \"Y2019M09D04_RH_Ingest_MAPSPAM_GBQ_V01\"\n",
    "\n",
    "MAPSPAM_CROPNAMES = \"https://raw.githubusercontent.com/wri/MAPSPAM/master/metadata_tables/mapspam_names.csv\"\n",
    "\n",
    "gcs_input_path = \"gs://{}/{}/input_V01\".format(GCS_BUCKET,PREFIX)\n",
    "gcs_output_path = \"gs://{}/{}/output_V{:02.0f}/\".format(GCS_BUCKET,PREFIX,OUTPUT_VERSION)\n",
    "ec2_input_path = \"/volumes/data/{}/input_V{:02.0f}\".format(SCRIPT_NAME,OUTPUT_VERSION)\n",
    "ec2_output_path = \"/volumes/data/{}/output_V{:02.0f}\".format(SCRIPT_NAME,OUTPUT_VERSION)\n",
    "\n",
    "GBQ_OUTPUT_DATASET = \"MAPSPAM_2010v10\""
   ]
  },
  {
   "cell_type": "markdown",
   "metadata": {},
   "source": [
    "Download all csv files except production (has different schema) from \n",
    "http://mapspam.info/data/\n",
    "\n",
    "Unzip and upload to Google Cloud Storage.\n",
    "\n",
    "Rename:\n",
    "spam2010v1r0_global_yield.csv -> spam2010V1r0_global_yield.csv  \n",
    "spam2010v1r0_global_val_prod_agg.csv -> spam2010V1r0_global_val_prod_agg.csv"
   ]
  },
  {
   "cell_type": "code",
   "execution_count": 2,
   "metadata": {},
   "outputs": [
    {
     "name": "stdout",
     "output_type": "stream",
     "text": [
      "Y2019M09D05 UTC 10:02\n"
     ]
    },
    {
     "data": {
      "text/plain": [
       "'3.5.4 |Anaconda, Inc.| (default, Nov 20 2017, 18:44:38) \\n[GCC 7.2.0]'"
      ]
     },
     "execution_count": 2,
     "metadata": {},
     "output_type": "execute_result"
    }
   ],
   "source": [
    "import time, datetime, sys\n",
    "dateString = time.strftime(\"Y%YM%mD%d\")\n",
    "timeString = time.strftime(\"UTC %H:%M\")\n",
    "start = datetime.datetime.now()\n",
    "print(dateString,timeString)\n",
    "sys.version"
   ]
  },
  {
   "cell_type": "code",
   "execution_count": 3,
   "metadata": {
    "collapsed": true
   },
   "outputs": [],
   "source": [
    "import os\n",
    "import subprocess\n",
    "import pandas as pd\n",
    "from tqdm import tqdm\n",
    "from google.cloud import bigquery"
   ]
  },
  {
   "cell_type": "code",
   "execution_count": 4,
   "metadata": {
    "collapsed": true
   },
   "outputs": [],
   "source": [
    "os.environ[\"GOOGLE_APPLICATION_CREDENTIALS\"] = \"/.google.json\"\n",
    "os.environ[\"GOOGLE_CLOUD_PROJECT\"] = \"aqueduct30\"\n",
    "client = bigquery.Client(project=BQ_PROJECT_ID)"
   ]
  },
  {
   "cell_type": "code",
   "execution_count": 5,
   "metadata": {},
   "outputs": [
    {
     "name": "stdout",
     "output_type": "stream",
     "text": [
      "rm: cannot remove '/volumes/data/Y2019M09D04_RH_Ingest_MAPSPAM_GBQ_V01/input_V05': No such file or directory\n",
      "rm: cannot remove '/volumes/data/Y2019M09D04_RH_Ingest_MAPSPAM_GBQ_V01/output_V05': No such file or directory\n"
     ]
    }
   ],
   "source": [
    "!rm -r {ec2_input_path}\n",
    "!rm -r {ec2_output_path}\n",
    "!mkdir -p {ec2_input_path}\n",
    "!mkdir -p {ec2_output_path}"
   ]
  },
  {
   "cell_type": "code",
   "execution_count": 6,
   "metadata": {},
   "outputs": [
    {
     "name": "stdout",
     "output_type": "stream",
     "text": [
      "Copying gs://aqueduct30_v01/Y2019M09D04_RH_Ingest_MAPSPAM_GBQ_V01/input_V01/spam2010V1r0_global_harv_area.csv/spam2010V1r0_global_H_TA.csv...\n",
      "Copying gs://aqueduct30_v01/Y2019M09D04_RH_Ingest_MAPSPAM_GBQ_V01/input_V01/spam2010V1r0_global_harv_area.csv/spam2010V1r0_global_H_TH.csv...\n",
      "Copying gs://aqueduct30_v01/Y2019M09D04_RH_Ingest_MAPSPAM_GBQ_V01/input_V01/spam2010V1r0_global_harv_area.csv/spam2010V1r0_global_H_TI.csv...\n",
      "Copying gs://aqueduct30_v01/Y2019M09D04_RH_Ingest_MAPSPAM_GBQ_V01/input_V01/spam2010V1r0_global_harv_area.csv/spam2010V1r0_global_H_TL.csv...\n",
      "Copying gs://aqueduct30_v01/Y2019M09D04_RH_Ingest_MAPSPAM_GBQ_V01/input_V01/spam2010V1r0_global_harv_area.csv/spam2010V1r0_global_H_TR.csv...\n",
      "Copying gs://aqueduct30_v01/Y2019M09D04_RH_Ingest_MAPSPAM_GBQ_V01/input_V01/spam2010V1r0_global_harv_area.csv/spam2010V1r0_global_H_TS.csv...\n",
      "Copying gs://aqueduct30_v01/Y2019M09D04_RH_Ingest_MAPSPAM_GBQ_V01/input_V01/spam2010V1r0_global_phys_area.csv/spam2010V1r0_global_A_TA.csv...\n",
      "Copying gs://aqueduct30_v01/Y2019M09D04_RH_Ingest_MAPSPAM_GBQ_V01/input_V01/spam2010V1r0_global_phys_area.csv/spam2010V1r0_global_A_TH.csv...\n",
      "Copying gs://aqueduct30_v01/Y2019M09D04_RH_Ingest_MAPSPAM_GBQ_V01/input_V01/spam2010V1r0_global_phys_area.csv/spam2010V1r0_global_A_TI.csv...\n",
      "Copying gs://aqueduct30_v01/Y2019M09D04_RH_Ingest_MAPSPAM_GBQ_V01/input_V01/spam2010V1r0_global_phys_area.csv/spam2010V1r0_global_A_TL.csv...\n",
      "Copying gs://aqueduct30_v01/Y2019M09D04_RH_Ingest_MAPSPAM_GBQ_V01/input_V01/spam2010V1r0_global_phys_area.csv/spam2010V1r0_global_A_TR.csv...\n",
      "Copying gs://aqueduct30_v01/Y2019M09D04_RH_Ingest_MAPSPAM_GBQ_V01/input_V01/spam2010V1r0_global_phys_area.csv/spam2010V1r0_global_A_TS.csv...\n",
      "Copying gs://aqueduct30_v01/Y2019M09D04_RH_Ingest_MAPSPAM_GBQ_V01/input_V01/spam2010V1r0_global_prod.csv/spam2010V1r0_global_P_TA.csv...\n",
      "Copying gs://aqueduct30_v01/Y2019M09D04_RH_Ingest_MAPSPAM_GBQ_V01/input_V01/spam2010V1r0_global_prod.csv/spam2010V1r0_global_P_TH.csv...\n",
      "Copying gs://aqueduct30_v01/Y2019M09D04_RH_Ingest_MAPSPAM_GBQ_V01/input_V01/spam2010V1r0_global_prod.csv/spam2010V1r0_global_P_TI.csv...\n",
      "Copying gs://aqueduct30_v01/Y2019M09D04_RH_Ingest_MAPSPAM_GBQ_V01/input_V01/spam2010V1r0_global_prod.csv/spam2010V1r0_global_P_TL.csv...\n",
      "Copying gs://aqueduct30_v01/Y2019M09D04_RH_Ingest_MAPSPAM_GBQ_V01/input_V01/spam2010V1r0_global_prod.csv/spam2010V1r0_global_P_TR.csv...\n",
      "Copying gs://aqueduct30_v01/Y2019M09D04_RH_Ingest_MAPSPAM_GBQ_V01/input_V01/spam2010V1r0_global_prod.csv/spam2010V1r0_global_P_TS.csv...\n",
      "Copying gs://aqueduct30_v01/Y2019M09D04_RH_Ingest_MAPSPAM_GBQ_V01/input_V01/spam2010V1r0_global_val_prod_agg.csv/spam2010V1r0_global_V_agg_TA.csv...\n",
      "Copying gs://aqueduct30_v01/Y2019M09D04_RH_Ingest_MAPSPAM_GBQ_V01/input_V01/spam2010V1r0_global_val_prod_agg.csv/spam2010V1r0_global_V_agg_TI.csv...\n",
      "Copying gs://aqueduct30_v01/Y2019M09D04_RH_Ingest_MAPSPAM_GBQ_V01/input_V01/spam2010V1r0_global_val_prod_agg.csv/spam2010V1r0_global_V_agg_TH.csv...\n",
      "Copying gs://aqueduct30_v01/Y2019M09D04_RH_Ingest_MAPSPAM_GBQ_V01/input_V01/spam2010V1r0_global_val_prod_agg.csv/spam2010V1r0_global_V_agg_TL.csv...\n",
      "Copying gs://aqueduct30_v01/Y2019M09D04_RH_Ingest_MAPSPAM_GBQ_V01/input_V01/spam2010V1r0_global_val_prod_agg.csv/spam2010V1r0_global_V_agg_TR.csv...\n",
      "Copying gs://aqueduct30_v01/Y2019M09D04_RH_Ingest_MAPSPAM_GBQ_V01/input_V01/spam2010V1r0_global_val_prod_agg.csv/spam2010V1r0_global_V_agg_TS.csv...\n",
      "Copying gs://aqueduct30_v01/Y2019M09D04_RH_Ingest_MAPSPAM_GBQ_V01/input_V01/spam2010V1r0_global_yield.csv/spam2010V1r0_global_Y_TA.csv...\n",
      "Copying gs://aqueduct30_v01/Y2019M09D04_RH_Ingest_MAPSPAM_GBQ_V01/input_V01/spam2010V1r0_global_yield.csv/spam2010V1r0_global_Y_TH.csv...\n",
      "Copying gs://aqueduct30_v01/Y2019M09D04_RH_Ingest_MAPSPAM_GBQ_V01/input_V01/spam2010V1r0_global_yield.csv/spam2010V1r0_global_Y_TL.csv...\n",
      "Copying gs://aqueduct30_v01/Y2019M09D04_RH_Ingest_MAPSPAM_GBQ_V01/input_V01/spam2010V1r0_global_yield.csv/spam2010V1r0_global_Y_TI.csv...\n",
      "Copying gs://aqueduct30_v01/Y2019M09D04_RH_Ingest_MAPSPAM_GBQ_V01/input_V01/spam2010V1r0_global_yield.csv/spam2010V1r0_global_Y_TR.csv...\n",
      "Copying gs://aqueduct30_v01/Y2019M09D04_RH_Ingest_MAPSPAM_GBQ_V01/input_V01/spam2010V1r0_global_yield.csv/spam2010V1r0_global_Y_TS.csv...\n",
      "/ [30/31 files][  7.4 GiB/  7.4 GiB]  99% Done  83.3 MiB/s ETA 00:00:00         \r"
     ]
    }
   ],
   "source": [
    "!gsutil -m cp -r {gcs_input_path}/* {ec2_input_path}"
   ]
  },
  {
   "cell_type": "code",
   "execution_count": 7,
   "metadata": {
    "collapsed": true
   },
   "outputs": [],
   "source": [
    "variable_dict = {\"yield\":{\"variable_short\":\"yield\",\"shorthand\":\"Y\"},\n",
    "                 \"production\":{\"variable_short\":\"prod\",\"shorthand\":\"P\"},\n",
    "                 \"harvested_area\":{\"variable_short\":\"harv_area\",\"shorthand\":\"H\"},\n",
    "                 \"physical_area\":{\"variable_short\":\"phys_area\",\"shorthand\":\"A\"}}\n",
    "                 #\"value_of_production\":{\"variable_short\":\"val_prod_agg\",\"shorthand\":\"V_agg\"}}\n",
    "\n",
    "technologies =  [\"A\",\"I\",\"H\",\"L\",\"S\",\"R\"] # see metadata"
   ]
  },
  {
   "cell_type": "code",
   "execution_count": 8,
   "metadata": {
    "collapsed": true
   },
   "outputs": [],
   "source": [
    "def load_df(variable_short,technology):\n",
    "    folder_name = \"spam2010V1r0_global_{}.csv\".format(variable_short) \n",
    "    filename = \"spam2010V1r0_global_{}_T{}.csv\".format(shorthand,technology)\n",
    "    input_path = \"{}/{}/{}\".format(ec2_input_path,folder_name,filename)\n",
    "    df_raw = pd.read_csv(input_path,encoding=\"iso-8859-1\")\n",
    "    if TESTING:\n",
    "        df = df_raw[0:100]\n",
    "    else:\n",
    "        df = df_raw\n",
    "    return df\n",
    "\n",
    "def rename_crop_columns(df,technology):\n",
    "    \"\"\"\n",
    "    The csv files in Mapspam have the technology in the column names. The technology\n",
    "    is also stored in the column tech_type and therefore redundant. It prevents \n",
    "    vertically stacking the data.\n",
    "    \n",
    "    Args:\n",
    "        df(dataframe): Dataframe with old crop columns.\n",
    "        technology(string):technology.\n",
    "    Returs:\n",
    "        df_renamed: Dataframe with renames columns\n",
    "    \n",
    "    \"\"\"\n",
    "    \n",
    "    \n",
    "    df_cropnames = pd.read_csv(MAPSPAM_CROPNAMES)\n",
    "    new_crop_names = list(df_cropnames[\"SPAM_name\"])\n",
    "    old_crop_names = list(map(lambda x: x+\"_{}\".format(technology.lower()), new_crop_names))\n",
    "    dictje = dict(zip(old_crop_names, new_crop_names))\n",
    "    df_renamed = df.rename(columns=dictje)\n",
    "    \n",
    "    return df_renamed"
   ]
  },
  {
   "cell_type": "code",
   "execution_count": 9,
   "metadata": {},
   "outputs": [
    {
     "name": "stderr",
     "output_type": "stream",
     "text": [
      "\r",
      "  0%|          | 0/6 [00:00<?, ?it/s]"
     ]
    },
    {
     "name": "stdout",
     "output_type": "stream",
     "text": [
      "A\n",
      "physical_area\n"
     ]
    },
    {
     "name": "stderr",
     "output_type": "stream",
     "text": [
      "\n",
      "0it [00:00, ?it/s]\u001b[A\n",
      "1it [00:04,  4.51s/it]\u001b[A\n",
      "2it [00:29, 10.58s/it]\u001b[A\n",
      "3it [01:15, 21.28s/it]\u001b[A\n",
      "4it [01:40, 22.26s/it]\u001b[A\n",
      "5it [02:05, 23.22s/it]\u001b[A\n",
      "6it [02:30, 23.69s/it]\u001b[A\n",
      "7it [03:02, 26.25s/it]\u001b[A\n",
      "8it [03:38, 29.07s/it]\u001b[A\n",
      "9it [03:59, 26.62s/it]\u001b[A"
     ]
    },
    {
     "name": "stdout",
     "output_type": "stream",
     "text": [
      "yield\n"
     ]
    },
    {
     "name": "stderr",
     "output_type": "stream",
     "text": [
      "\n",
      "0it [00:00, ?it/s]\u001b[A\n",
      "1it [00:04,  4.56s/it]\u001b[A\n",
      "2it [00:42, 14.56s/it]\u001b[A\n",
      "3it [01:07, 17.82s/it]\u001b[A\n",
      "4it [01:45, 23.73s/it]\u001b[A\n",
      "5it [02:13, 25.05s/it]\u001b[A\n",
      "6it [02:49, 28.46s/it]\u001b[A\n",
      "7it [03:16, 27.82s/it]\u001b[A\n",
      "8it [03:56, 31.59s/it]\u001b[A\n",
      "9it [04:33, 33.03s/it]\u001b[A"
     ]
    },
    {
     "name": "stdout",
     "output_type": "stream",
     "text": [
      "harvested_area\n"
     ]
    },
    {
     "name": "stderr",
     "output_type": "stream",
     "text": [
      "\n",
      "0it [00:00, ?it/s]\u001b[A\n",
      "1it [00:04,  4.50s/it]\u001b[A\n",
      "2it [00:36, 12.74s/it]\u001b[A\n",
      "3it [01:11, 19.40s/it]\u001b[A\n",
      "4it [01:46, 24.05s/it]\u001b[A\n",
      "5it [02:08, 23.55s/it]\u001b[A\n",
      "6it [02:42, 26.64s/it]\u001b[A\n",
      "7it [03:12, 27.77s/it]\u001b[A\n",
      "8it [03:45, 29.25s/it]\u001b[A\n",
      "9it [04:08, 27.34s/it]\u001b[A"
     ]
    },
    {
     "name": "stdout",
     "output_type": "stream",
     "text": [
      "production\n"
     ]
    },
    {
     "name": "stderr",
     "output_type": "stream",
     "text": [
      "\n",
      "0it [00:00, ?it/s]\u001b[A\n",
      "1it [00:04,  4.53s/it]\u001b[A\n",
      "2it [00:38, 13.36s/it]\u001b[A\n",
      "3it [01:03, 16.99s/it]\u001b[A\n",
      "4it [01:29, 19.51s/it]\u001b[A\n",
      "5it [01:54, 21.11s/it]\u001b[A\n",
      "6it [02:20, 22.80s/it]\u001b[A\n",
      "7it [03:00, 27.97s/it]\u001b[A\n",
      "8it [03:34, 29.70s/it]\u001b[A\n",
      " 17%|█▋        | 1/6 [19:07<1:35:38, 1147.65s/it]"
     ]
    },
    {
     "name": "stdout",
     "output_type": "stream",
     "text": [
      "I\n",
      "physical_area\n"
     ]
    },
    {
     "name": "stderr",
     "output_type": "stream",
     "text": [
      "\n",
      "0it [00:00, ?it/s]\u001b[A\n",
      "1it [00:04,  4.20s/it]\u001b[A\n",
      "2it [00:27,  9.94s/it]\u001b[A\n",
      "3it [00:53, 14.69s/it]\u001b[A\n",
      "4it [01:13, 16.47s/it]\u001b[A\n",
      "5it [01:35, 18.08s/it]\u001b[A\n",
      "6it [01:57, 19.31s/it]\u001b[A\n",
      "7it [02:28, 22.77s/it]\u001b[A\n",
      "8it [03:09, 28.24s/it]\u001b[A\n",
      "9it [03:30, 26.03s/it]\u001b[A"
     ]
    },
    {
     "name": "stdout",
     "output_type": "stream",
     "text": [
      "yield\n"
     ]
    },
    {
     "name": "stderr",
     "output_type": "stream",
     "text": [
      "\n",
      "0it [00:00, ?it/s]\u001b[A\n",
      "1it [00:04,  4.24s/it]\u001b[A\n",
      "2it [00:28, 10.18s/it]\u001b[A\n",
      "3it [01:03, 17.61s/it]\u001b[A\n",
      "4it [01:27, 19.56s/it]\u001b[A\n",
      "5it [01:47, 19.80s/it]\u001b[A\n",
      "6it [02:14, 21.90s/it]\u001b[A\n",
      "7it [02:38, 22.66s/it]\u001b[A\n",
      "8it [03:10, 25.32s/it]\u001b[A\n",
      "9it [03:35, 25.12s/it]\u001b[A"
     ]
    },
    {
     "name": "stdout",
     "output_type": "stream",
     "text": [
      "harvested_area\n"
     ]
    },
    {
     "name": "stderr",
     "output_type": "stream",
     "text": [
      "\n",
      "0it [00:00, ?it/s]\u001b[A\n",
      "1it [00:04,  4.10s/it]\u001b[A\n",
      "2it [00:29, 10.56s/it]\u001b[A\n",
      "3it [00:50, 13.69s/it]\u001b[A\n",
      "4it [01:13, 16.45s/it]\u001b[A\n",
      "5it [01:35, 18.02s/it]\u001b[A\n",
      "6it [01:59, 19.89s/it]\u001b[A\n",
      "7it [02:25, 21.66s/it]\u001b[A\n",
      "8it [02:48, 22.16s/it]\u001b[A\n",
      "9it [03:07, 21.29s/it]\u001b[A"
     ]
    },
    {
     "name": "stdout",
     "output_type": "stream",
     "text": [
      "production\n"
     ]
    },
    {
     "name": "stderr",
     "output_type": "stream",
     "text": [
      "\n",
      "0it [00:00, ?it/s]\u001b[A\n",
      "1it [00:04,  4.19s/it]\u001b[A\n",
      "2it [00:28, 10.09s/it]\u001b[A\n",
      "3it [01:00, 16.91s/it]\u001b[A\n",
      "4it [01:24, 19.05s/it]\u001b[A\n",
      "5it [01:59, 23.63s/it]\u001b[A\n",
      "6it [02:26, 24.65s/it]\u001b[A\n",
      "7it [02:58, 26.87s/it]\u001b[A\n",
      "8it [03:20, 25.38s/it]\u001b[A\n",
      " 33%|███▎      | 2/6 [35:24<1:13:06, 1096.51s/it]"
     ]
    },
    {
     "name": "stdout",
     "output_type": "stream",
     "text": [
      "H\n",
      "physical_area\n"
     ]
    },
    {
     "name": "stderr",
     "output_type": "stream",
     "text": [
      "\n",
      "0it [00:00, ?it/s]\u001b[A\n",
      "1it [00:04,  4.23s/it]\u001b[A\n",
      "2it [00:48, 16.28s/it]\u001b[A\n",
      "3it [01:13, 19.00s/it]\u001b[A\n",
      "4it [01:39, 20.81s/it]\u001b[A\n",
      "5it [02:02, 21.73s/it]\u001b[A\n",
      "6it [02:26, 22.36s/it]\u001b[A\n",
      "7it [02:55, 24.25s/it]\u001b[A\n",
      "8it [03:28, 26.81s/it]\u001b[A\n",
      "9it [03:49, 25.17s/it]\u001b[A"
     ]
    },
    {
     "name": "stdout",
     "output_type": "stream",
     "text": [
      "yield\n"
     ]
    },
    {
     "name": "stderr",
     "output_type": "stream",
     "text": [
      "\n",
      "0it [00:00, ?it/s]\u001b[A\n",
      "1it [00:04,  4.29s/it]\u001b[A\n",
      "2it [00:33, 11.71s/it]\u001b[A\n",
      "3it [01:01, 16.63s/it]\u001b[A\n",
      "4it [01:35, 21.93s/it]\u001b[A\n",
      "5it [02:09, 25.52s/it]\u001b[A\n",
      "6it [02:40, 27.12s/it]\u001b[A\n",
      "7it [03:05, 26.59s/it]\u001b[A\n",
      "8it [03:40, 28.93s/it]\u001b[A\n",
      "9it [04:00, 26.48s/it]\u001b[A"
     ]
    },
    {
     "name": "stdout",
     "output_type": "stream",
     "text": [
      "harvested_area\n"
     ]
    },
    {
     "name": "stderr",
     "output_type": "stream",
     "text": [
      "\n",
      "0it [00:00, ?it/s]\u001b[A\n",
      "1it [00:04,  4.45s/it]\u001b[A\n",
      "2it [00:29, 10.49s/it]\u001b[A\n",
      "3it [00:55, 15.17s/it]\u001b[A\n",
      "4it [01:16, 17.09s/it]\u001b[A\n",
      "5it [01:37, 18.22s/it]\u001b[A\n",
      "6it [01:56, 18.55s/it]\u001b[A\n",
      "7it [02:32, 23.70s/it]\u001b[A\n",
      "8it [02:52, 22.54s/it]\u001b[A\n",
      "9it [03:11, 21.48s/it]\u001b[A"
     ]
    },
    {
     "name": "stdout",
     "output_type": "stream",
     "text": [
      "production\n"
     ]
    },
    {
     "name": "stderr",
     "output_type": "stream",
     "text": [
      "\n",
      "0it [00:00, ?it/s]\u001b[A\n",
      "1it [00:04,  4.27s/it]\u001b[A\n",
      "2it [00:29, 10.49s/it]\u001b[A\n",
      "3it [00:56, 15.49s/it]\u001b[A\n",
      "4it [01:24, 19.19s/it]\u001b[A\n",
      "5it [01:50, 21.16s/it]\u001b[A\n",
      "6it [02:22, 24.59s/it]\u001b[A\n",
      "7it [02:59, 28.23s/it]\u001b[A\n",
      "8it [03:29, 28.74s/it]\u001b[A\n",
      " 50%|█████     | 3/6 [52:58<54:10, 1083.62s/it]  "
     ]
    },
    {
     "name": "stdout",
     "output_type": "stream",
     "text": [
      "L\n",
      "physical_area\n"
     ]
    },
    {
     "name": "stderr",
     "output_type": "stream",
     "text": [
      "\n",
      "0it [00:00, ?it/s]\u001b[A\n",
      "1it [00:04,  4.13s/it]\u001b[A\n",
      "2it [00:30, 10.86s/it]\u001b[A\n",
      "3it [00:53, 14.42s/it]\u001b[A\n",
      "4it [01:14, 16.41s/it]\u001b[A\n",
      "5it [01:45, 20.75s/it]\u001b[A\n",
      "6it [02:10, 21.94s/it]\u001b[A\n",
      "7it [02:35, 22.87s/it]\u001b[A\n",
      "8it [03:00, 23.50s/it]\u001b[A\n",
      "9it [03:20, 22.58s/it]\u001b[A"
     ]
    },
    {
     "name": "stdout",
     "output_type": "stream",
     "text": [
      "yield\n"
     ]
    },
    {
     "name": "stderr",
     "output_type": "stream",
     "text": [
      "\n",
      "0it [00:00, ?it/s]\u001b[A\n",
      "1it [00:04,  4.23s/it]\u001b[A\n",
      "2it [00:32, 11.51s/it]\u001b[A\n",
      "3it [00:56, 15.06s/it]\u001b[A\n",
      "4it [01:17, 17.05s/it]\u001b[A\n",
      "5it [01:43, 19.74s/it]\u001b[A\n",
      "6it [02:13, 22.62s/it]\u001b[A\n",
      "7it [02:38, 23.37s/it]\u001b[A\n",
      "8it [03:11, 26.25s/it]\u001b[A\n",
      "9it [03:36, 25.90s/it]\u001b[A"
     ]
    },
    {
     "name": "stdout",
     "output_type": "stream",
     "text": [
      "harvested_area\n"
     ]
    },
    {
     "name": "stderr",
     "output_type": "stream",
     "text": [
      "\n",
      "0it [00:00, ?it/s]\u001b[A\n",
      "1it [00:04,  4.17s/it]\u001b[A\n",
      "2it [00:23,  8.76s/it]\u001b[A\n",
      "3it [00:56, 15.91s/it]\u001b[A\n",
      "4it [01:29, 21.03s/it]\u001b[A\n",
      "5it [01:56, 22.98s/it]\u001b[A\n",
      "6it [02:24, 24.30s/it]\u001b[A\n",
      "7it [02:46, 23.71s/it]\u001b[A\n",
      "8it [03:14, 24.87s/it]\u001b[A\n",
      "9it [03:35, 23.83s/it]\u001b[A"
     ]
    },
    {
     "name": "stdout",
     "output_type": "stream",
     "text": [
      "production\n"
     ]
    },
    {
     "name": "stderr",
     "output_type": "stream",
     "text": [
      "\n",
      "0it [00:00, ?it/s]\u001b[A\n",
      "1it [00:04,  4.17s/it]\u001b[A\n",
      "2it [00:27,  9.90s/it]\u001b[A\n",
      "3it [00:57, 15.86s/it]\u001b[A\n",
      "4it [01:20, 18.01s/it]\u001b[A\n",
      "5it [01:42, 19.38s/it]\u001b[A\n",
      "6it [02:10, 21.81s/it]\u001b[A\n",
      "7it [03:00, 30.20s/it]\u001b[A\n",
      "8it [03:23, 28.21s/it]\u001b[A\n",
      " 67%|██████▋   | 4/6 [1:09:41<35:18, 1059.46s/it]"
     ]
    },
    {
     "name": "stdout",
     "output_type": "stream",
     "text": [
      "S\n",
      "physical_area\n"
     ]
    },
    {
     "name": "stderr",
     "output_type": "stream",
     "text": [
      "\n",
      "0it [00:00, ?it/s]\u001b[A\n",
      "1it [00:04,  4.12s/it]\u001b[A\n",
      "2it [00:26,  9.46s/it]\u001b[A\n",
      "3it [00:59, 16.80s/it]\u001b[A\n",
      "4it [01:24, 19.18s/it]\u001b[A\n",
      "5it [01:52, 21.67s/it]\u001b[A\n",
      "6it [02:22, 24.34s/it]\u001b[A\n",
      "7it [02:45, 23.77s/it]\u001b[A\n",
      "8it [03:17, 26.35s/it]\u001b[A\n",
      "9it [03:47, 27.29s/it]\u001b[A"
     ]
    },
    {
     "name": "stdout",
     "output_type": "stream",
     "text": [
      "yield\n"
     ]
    },
    {
     "name": "stderr",
     "output_type": "stream",
     "text": [
      "\n",
      "0it [00:00, ?it/s]\u001b[A\n",
      "1it [00:04,  4.22s/it]\u001b[A\n",
      "2it [00:28, 10.29s/it]\u001b[A\n",
      "3it [00:53, 14.78s/it]\u001b[A\n",
      "4it [01:18, 17.62s/it]\u001b[A\n",
      "5it [01:41, 19.18s/it]\u001b[A\n",
      "6it [02:12, 22.82s/it]\u001b[A\n",
      "7it [02:57, 29.50s/it]\u001b[A\n",
      "8it [03:24, 28.90s/it]\u001b[A\n",
      "9it [03:46, 26.66s/it]\u001b[A"
     ]
    },
    {
     "name": "stdout",
     "output_type": "stream",
     "text": [
      "harvested_area\n"
     ]
    },
    {
     "name": "stderr",
     "output_type": "stream",
     "text": [
      "\n",
      "0it [00:00, ?it/s]\u001b[A\n",
      "1it [00:04,  4.16s/it]\u001b[A\n",
      "2it [00:29, 10.51s/it]\u001b[A\n",
      "3it [00:50, 13.73s/it]\u001b[A\n",
      "4it [01:11, 15.94s/it]\u001b[A\n",
      "5it [01:36, 18.43s/it]\u001b[A\n",
      "6it [01:53, 18.16s/it]\u001b[A\n",
      "7it [02:24, 21.96s/it]\u001b[A\n",
      "8it [02:54, 24.36s/it]\u001b[A\n",
      "9it [03:13, 22.79s/it]\u001b[A"
     ]
    },
    {
     "name": "stdout",
     "output_type": "stream",
     "text": [
      "production\n"
     ]
    },
    {
     "name": "stderr",
     "output_type": "stream",
     "text": [
      "\n",
      "0it [00:00, ?it/s]\u001b[A\n",
      "1it [00:04,  4.17s/it]\u001b[A\n",
      "2it [00:26,  9.60s/it]\u001b[A\n",
      "3it [00:45, 12.59s/it]\u001b[A\n",
      "4it [01:05, 14.55s/it]\u001b[A\n",
      "5it [01:26, 16.57s/it]\u001b[A\n",
      "6it [01:47, 17.79s/it]\u001b[A\n",
      "7it [02:11, 19.70s/it]\u001b[A\n",
      "8it [02:35, 21.09s/it]\u001b[A\n",
      " 83%|████████▎ | 5/6 [1:25:44<17:10, 1030.67s/it]"
     ]
    },
    {
     "name": "stdout",
     "output_type": "stream",
     "text": [
      "R\n",
      "physical_area\n"
     ]
    },
    {
     "name": "stderr",
     "output_type": "stream",
     "text": [
      "\n",
      "0it [00:00, ?it/s]\u001b[A\n",
      "1it [00:04,  4.34s/it]\u001b[A\n",
      "2it [00:38, 13.40s/it]\u001b[A\n",
      "3it [01:02, 16.45s/it]\u001b[A\n",
      "4it [01:23, 17.72s/it]\u001b[A\n",
      "5it [01:53, 21.46s/it]\u001b[A\n",
      "6it [02:18, 22.52s/it]\u001b[A\n",
      "7it [02:39, 21.98s/it]\u001b[A\n",
      "8it [03:16, 26.71s/it]\u001b[A\n",
      "9it [03:40, 25.92s/it]\u001b[A"
     ]
    },
    {
     "name": "stdout",
     "output_type": "stream",
     "text": [
      "yield\n"
     ]
    },
    {
     "name": "stderr",
     "output_type": "stream",
     "text": [
      "\n",
      "0it [00:00, ?it/s]\u001b[A\n",
      "1it [00:04,  4.39s/it]\u001b[A\n",
      "2it [00:28, 10.25s/it]\u001b[A\n",
      "3it [00:55, 15.43s/it]\u001b[A\n",
      "4it [01:21, 18.61s/it]\u001b[A\n",
      "5it [01:46, 20.45s/it]\u001b[A\n",
      "6it [02:14, 22.68s/it]\u001b[A\n",
      "7it [02:48, 25.97s/it]\u001b[A\n",
      "8it [03:32, 31.37s/it]\u001b[A\n",
      "9it [03:57, 29.50s/it]\u001b[A"
     ]
    },
    {
     "name": "stdout",
     "output_type": "stream",
     "text": [
      "harvested_area\n"
     ]
    },
    {
     "name": "stderr",
     "output_type": "stream",
     "text": [
      "\n",
      "0it [00:00, ?it/s]\u001b[A\n",
      "1it [00:04,  4.35s/it]\u001b[A\n",
      "2it [00:36, 12.63s/it]\u001b[A\n",
      "3it [01:05, 17.65s/it]\u001b[A\n",
      "4it [01:29, 19.49s/it]\u001b[A\n",
      "5it [02:05, 24.60s/it]\u001b[A\n",
      "6it [02:29, 24.42s/it]\u001b[A\n",
      "7it [02:54, 24.30s/it]\u001b[A\n",
      "8it [03:27, 27.06s/it]\u001b[A\n",
      "9it [03:49, 25.60s/it]\u001b[A"
     ]
    },
    {
     "name": "stdout",
     "output_type": "stream",
     "text": [
      "production\n"
     ]
    },
    {
     "name": "stderr",
     "output_type": "stream",
     "text": [
      "\n",
      "0it [00:00, ?it/s]\u001b[A\n",
      "1it [00:04,  4.44s/it]\u001b[A\n",
      "2it [00:37, 12.92s/it]\u001b[A\n",
      "3it [01:10, 18.92s/it]\u001b[A\n",
      "4it [01:32, 19.96s/it]\u001b[A\n",
      "5it [01:53, 20.42s/it]\u001b[A\n",
      "6it [02:19, 21.90s/it]\u001b[A\n",
      "7it [02:41, 22.06s/it]\u001b[A\n",
      "8it [03:03, 22.12s/it]\u001b[A\n",
      "100%|██████████| 6/6 [1:43:14<00:00, 1036.31s/it]\n"
     ]
    }
   ],
   "source": [
    "for technology in tqdm(technologies):\n",
    "    print(technology)\n",
    "    for variable, values in variable_dict.items():\n",
    "        print(variable)\n",
    "        variable_short = values[\"variable_short\"]\n",
    "        shorthand = values[\"shorthand\"]\n",
    "        df = load_df(variable_short,technology)\n",
    "        df_renamed = rename_crop_columns(df,technology)\n",
    "        \n",
    "        filename = \"spam2010V1r0_global_{}_T{}.csv\".format(shorthand,technology)\n",
    "        output_path = \"{}/{}\".format(ec2_output_path,filename)\n",
    "        \n",
    "        df_renamed.to_csv(path_or_buf=output_path,\n",
    "                          encoding=\"UTF-8\")\n",
    "        \n",
    "\n",
    "        \n",
    "        gbq_dataset_name = \"MAPSPAM_2010v1r0\"        \n",
    "        table_name = technology\n",
    "        destination_table= \"{}.output_v{:02.0f}\".format(gbq_dataset_name,OUTPUT_VERSION)\n",
    "        \n",
    "       \n",
    "        df_renamed.to_gbq(project_id=BQ_PROJECT_ID,\n",
    "                          destination_table=destination_table,\n",
    "                          chunksize=100000,\n",
    "                          if_exists=\"append\")\n",
    "                          \n",
    "        \n"
   ]
  },
  {
   "cell_type": "code",
   "execution_count": 10,
   "metadata": {},
   "outputs": [
    {
     "name": "stdout",
     "output_type": "stream",
     "text": [
      "Copying file:///volumes/data/Y2019M09D04_RH_Ingest_MAPSPAM_GBQ_V01/output_V05/spam2010V1r0_global_H_TH.csv [Content-Type=text/csv]...\n",
      "Copying file:///volumes/data/Y2019M09D04_RH_Ingest_MAPSPAM_GBQ_V01/output_V05/spam2010V1r0_global_P_TH.csv [Content-Type=text/csv]...\n",
      "Copying file:///volumes/data/Y2019M09D04_RH_Ingest_MAPSPAM_GBQ_V01/output_V05/spam2010V1r0_global_H_TA.csv [Content-Type=text/csv]...\n",
      "Copying file:///volumes/data/Y2019M09D04_RH_Ingest_MAPSPAM_GBQ_V01/output_V05/spam2010V1r0_global_A_TI.csv [Content-Type=text/csv]...\n",
      "Copying file:///volumes/data/Y2019M09D04_RH_Ingest_MAPSPAM_GBQ_V01/output_V05/spam2010V1r0_global_H_TR.csv [Content-Type=text/csv]...\n",
      "Copying file:///volumes/data/Y2019M09D04_RH_Ingest_MAPSPAM_GBQ_V01/output_V05/spam2010V1r0_global_Y_TI.csv [Content-Type=text/csv]...\n",
      "==> NOTE: You are uploading one or more large file(s), which would run\n",
      "significantly faster if you enable parallel composite uploads. This\n",
      "feature can be enabled by editing the\n",
      "\"parallel_composite_upload_threshold\" value in your .boto\n",
      "configuration file. However, note that if you do this large files will\n",
      "be uploaded as `composite objects\n",
      "<https://cloud.google.com/storage/docs/composite-objects>`_,which\n",
      "means that any user who downloads such objects will need to have a\n",
      "compiled crcmod installed (see \"gsutil help crcmod\"). This is because\n",
      "without a compiled crcmod, computing checksums on composite objects is\n",
      "so slow that gsutil disables downloads of composite objects.\n",
      "\n",
      "Copying file:///volumes/data/Y2019M09D04_RH_Ingest_MAPSPAM_GBQ_V01/output_V05/spam2010V1r0_global_A_TS.csv [Content-Type=text/csv]...\n",
      "Copying file:///volumes/data/Y2019M09D04_RH_Ingest_MAPSPAM_GBQ_V01/output_V05/spam2010V1r0_global_Y_TS.csv [Content-Type=text/csv]...\n",
      "Copying file:///volumes/data/Y2019M09D04_RH_Ingest_MAPSPAM_GBQ_V01/output_V05/spam2010V1r0_global_Y_TL.csv [Content-Type=text/csv]...\n",
      "Copying file:///volumes/data/Y2019M09D04_RH_Ingest_MAPSPAM_GBQ_V01/output_V05/spam2010V1r0_global_P_TA.csv [Content-Type=text/csv]...\n",
      "Copying file:///volumes/data/Y2019M09D04_RH_Ingest_MAPSPAM_GBQ_V01/output_V05/spam2010V1r0_global_H_TS.csv [Content-Type=text/csv]...\n",
      "Copying file:///volumes/data/Y2019M09D04_RH_Ingest_MAPSPAM_GBQ_V01/output_V05/spam2010V1r0_global_Y_TR.csv [Content-Type=text/csv]...\n",
      "Copying file:///volumes/data/Y2019M09D04_RH_Ingest_MAPSPAM_GBQ_V01/output_V05/spam2010V1r0_global_P_TI.csv [Content-Type=text/csv]...\n",
      "Copying file:///volumes/data/Y2019M09D04_RH_Ingest_MAPSPAM_GBQ_V01/output_V05/spam2010V1r0_global_A_TR.csv [Content-Type=text/csv]...\n",
      "Copying file:///volumes/data/Y2019M09D04_RH_Ingest_MAPSPAM_GBQ_V01/output_V05/spam2010V1r0_global_H_TL.csv [Content-Type=text/csv]...\n",
      "Copying file:///volumes/data/Y2019M09D04_RH_Ingest_MAPSPAM_GBQ_V01/output_V05/spam2010V1r0_global_A_TA.csv [Content-Type=text/csv]...\n",
      "Copying file:///volumes/data/Y2019M09D04_RH_Ingest_MAPSPAM_GBQ_V01/output_V05/spam2010V1r0_global_P_TS.csv [Content-Type=text/csv]...\n",
      "Copying file:///volumes/data/Y2019M09D04_RH_Ingest_MAPSPAM_GBQ_V01/output_V05/spam2010V1r0_global_H_TI.csv [Content-Type=text/csv]...\n",
      "Copying file:///volumes/data/Y2019M09D04_RH_Ingest_MAPSPAM_GBQ_V01/output_V05/spam2010V1r0_global_A_TH.csv [Content-Type=text/csv]...\n",
      "Copying file:///volumes/data/Y2019M09D04_RH_Ingest_MAPSPAM_GBQ_V01/output_V05/spam2010V1r0_global_Y_TA.csv [Content-Type=text/csv]...\n",
      "Copying file:///volumes/data/Y2019M09D04_RH_Ingest_MAPSPAM_GBQ_V01/output_V05/spam2010V1r0_global_P_TL.csv [Content-Type=text/csv]...\n",
      "Copying file:///volumes/data/Y2019M09D04_RH_Ingest_MAPSPAM_GBQ_V01/output_V05/spam2010V1r0_global_Y_TH.csv [Content-Type=text/csv]...\n",
      "Copying file:///volumes/data/Y2019M09D04_RH_Ingest_MAPSPAM_GBQ_V01/output_V05/spam2010V1r0_global_P_TR.csv [Content-Type=text/csv]...\n",
      "Copying file:///volumes/data/Y2019M09D04_RH_Ingest_MAPSPAM_GBQ_V01/output_V05/spam2010V1r0_global_A_TL.csv [Content-Type=text/csv]...\n",
      "/ [24/24 files][  6.1 GiB/  6.1 GiB] 100% Done 379.9 MiB/s ETA 00:00:00         \n",
      "Operation completed over 24 objects/6.1 GiB.                                     \n"
     ]
    }
   ],
   "source": [
    "!gsutil -m cp -r {ec2_output_path} {gcs_output_path}"
   ]
  },
  {
   "cell_type": "code",
   "execution_count": 11,
   "metadata": {},
   "outputs": [
    {
     "name": "stdout",
     "output_type": "stream",
     "text": [
      "1:43:49.833856\n"
     ]
    }
   ],
   "source": [
    "end = datetime.datetime.now()\n",
    "elapsed = end - start\n",
    "print(elapsed)"
   ]
  },
  {
   "cell_type": "markdown",
   "metadata": {
    "collapsed": true
   },
   "source": [
    "previous run:  \n",
    "1:43:49.833856\n"
   ]
  }
 ],
 "metadata": {
  "kernelspec": {
   "display_name": "Python 35",
   "language": "python",
   "name": "python35"
  },
  "language_info": {
   "codemirror_mode": {
    "name": "ipython",
    "version": 3
   },
   "file_extension": ".py",
   "mimetype": "text/x-python",
   "name": "python",
   "nbconvert_exporter": "python",
   "pygments_lexer": "ipython3",
   "version": "3.5.4"
  }
 },
 "nbformat": 4,
 "nbformat_minor": 2
}

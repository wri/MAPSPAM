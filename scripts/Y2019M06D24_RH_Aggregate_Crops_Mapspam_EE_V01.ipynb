{
 "cells": [
  {
   "cell_type": "code",
   "execution_count": 1,
   "metadata": {},
   "outputs": [],
   "source": [
    "\"\"\" Ingest MAPSPAM 2010 data into earthengine\n",
    "-------------------------------------------------------------------------------\n",
    "\n",
    "Author: Rutger Hofste\n",
    "Date: 20190624\n",
    "Kernel: python36\n",
    "Docker: rutgerhofste/gisdocker:ubuntu16.04\n",
    "\n",
    "for all techs and variables except value of production, aggregate all crops.\n",
    "\n",
    "\n",
    "\n",
    "\"\"\"\n",
    "TESTING = 0\n",
    "\n",
    "SCRIPT_NAME = \"Y2019M06D24_RH_Aggregate_Crops_Mapspam_EE_V01\"\n",
    "OUTPUT_VERSION = 1\n",
    "\n",
    "EE_INPUT_PATH = \"projects/WRI-Aquaduct/Y2019M06D17_RH_Ingest_MAPSPAM_EE_V01/output_V02/\"\n",
    "EE_OUTPUT_PATH = \"projects/WRI-Aquaduct/{}/output_V{:02d}\".format(SCRIPT_NAME,OUTPUT_VERSION)\n",
    "\n",
    "URL_STRUCTURES = \"https://raw.githubusercontent.com/wri/MAPSPAM/master/metadata_tables/structure.csv\"\n",
    "URL_TECHS = \"https://raw.githubusercontent.com/wri/MAPSPAM/master/metadata_tables/technologies.csv\"\n",
    "URL_CROPS = \"https://raw.githubusercontent.com/wri/MAPSPAM/master/metadata_tables/mapspam_names.csv\"\n",
    "URL_UNITS = \"https://raw.githubusercontent.com/wri/MAPSPAM/master/metadata_tables/units.csv\"\n",
    "URL_STRUCTURE_B = \"https://raw.githubusercontent.com/wri/MAPSPAM/master/metadata_tables/structure_b.csv\"\n",
    "\n",
    "X_DIMENSION_5MIN = 4320\n",
    "Y_DIMENSION_5MIN = 2160\n",
    "Y_DIMENSION_5MIN_NOPOLAR = 2148 # was (21600)\n",
    "\n",
    "xScale = 360/X_DIMENSION_5MIN\n",
    "xShearing = 0\n",
    "xTranslation = -180\n",
    "yShearing = 0\n",
    "yScale = -179/Y_DIMENSION_5MIN_NOPOLAR\n",
    "yTranslation = 89.5\n",
    "\n",
    "CRS_TRANSFORM_5MIN_NOPOLAR = [xScale, xShearing, xTranslation, yShearing, yScale, yTranslation]\n",
    "\n",
    "EXTRA_PARAMS = {\"script_name\":SCRIPT_NAME,\n",
    "                \"output_version\":OUTPUT_VERSION,\n",
    "                \"ingested_by\":\"Rutger Hofste\"}\n",
    "\n",
    "CRS = \"EPSG:4326\""
   ]
  },
  {
   "cell_type": "code",
   "execution_count": 2,
   "metadata": {},
   "outputs": [
    {
     "name": "stdout",
     "output_type": "stream",
     "text": [
      "Y2019M06D24 UTC 12:38\n"
     ]
    },
    {
     "data": {
      "text/plain": [
       "'3.5.4 |Anaconda, Inc.| (default, Nov 20 2017, 18:44:38) \\n[GCC 7.2.0]'"
      ]
     },
     "execution_count": 2,
     "metadata": {},
     "output_type": "execute_result"
    }
   ],
   "source": [
    "import time, datetime, sys\n",
    "dateString = time.strftime(\"Y%YM%mD%d\")\n",
    "timeString = time.strftime(\"UTC %H:%M\")\n",
    "start = datetime.datetime.now()\n",
    "print(dateString,timeString)\n",
    "sys.version"
   ]
  },
  {
   "cell_type": "code",
   "execution_count": 3,
   "metadata": {
    "collapsed": true
   },
   "outputs": [],
   "source": [
    "import ee\n",
    "import os\n",
    "import subprocess\n",
    "import pandas as pd\n",
    "ee.Initialize()"
   ]
  },
  {
   "cell_type": "code",
   "execution_count": 4,
   "metadata": {
    "collapsed": true
   },
   "outputs": [],
   "source": [
    "#command = \"/opt/anaconda3/envs/python35/bin/earthengine asset set -p metadata='https://github.com/wri/MAPSPAM' projects/WRI-Aquaduct/Y2019M06D24_RH_Aggregate_Crops_Mapspam_EE_V01/output_V01/mapspam2010v1r0\""
   ]
  },
  {
   "cell_type": "code",
   "execution_count": 5,
   "metadata": {
    "collapsed": true
   },
   "outputs": [],
   "source": [
    "global_region = ee.Geometry.Polygon(coords=[[-180.0, -90.0], [180,  -90.0], [180, 90], [-180,90]], proj= ee.Projection('EPSG:4326'),geodesic=False )"
   ]
  },
  {
   "cell_type": "code",
   "execution_count": 6,
   "metadata": {
    "collapsed": true
   },
   "outputs": [],
   "source": [
    "global_region_client = global_region.getInfo()['coordinates']"
   ]
  },
  {
   "cell_type": "code",
   "execution_count": 7,
   "metadata": {
    "collapsed": true
   },
   "outputs": [],
   "source": [
    "dimensions_5min_nopolar = \"{}x{}\".format(X_DIMENSION_5MIN,Y_DIMENSION_5MIN_NOPOLAR)"
   ]
  },
  {
   "cell_type": "code",
   "execution_count": 8,
   "metadata": {
    "collapsed": true
   },
   "outputs": [],
   "source": [
    "df_structures = pd.read_csv(URL_STRUCTURES)\n",
    "df_crops = pd.read_csv(URL_CROPS)\n",
    "df_techs = pd.read_csv(URL_TECHS)\n",
    "df_units = pd.read_csv(URL_UNITS)\n",
    "df_structure_b = pd.read_csv(URL_STRUCTURE_B)"
   ]
  },
  {
   "cell_type": "code",
   "execution_count": 9,
   "metadata": {},
   "outputs": [],
   "source": [
    "ic = ee.ImageCollection(\"projects/WRI-Aquaduct/Y2019M06D17_RH_Ingest_MAPSPAM_EE_V01/output_V02/mapspam2010v1r0\");\n",
    "ic = ic.filterMetadata(\"variable\",\"not_equals\",\"value-of-production\")\n",
    "\n",
    "crop_names = ic.distinct([\"crop_name\"]).aggregate_array(\"crop_name\").getInfo()\n",
    "techs = ic.distinct([\"technology_short\"]).aggregate_array(\"technology_short\").getInfo()\n",
    "variables = ic.distinct([\"variable\"]).aggregate_array(\"variable\").getInfo()"
   ]
  },
  {
   "cell_type": "code",
   "execution_count": 10,
   "metadata": {
    "collapsed": true
   },
   "outputs": [],
   "source": [
    "if TESTING:\n",
    "    techs  = techs[0:2]\n",
    "    variables = variables[0:1]"
   ]
  },
  {
   "cell_type": "code",
   "execution_count": 11,
   "metadata": {},
   "outputs": [
    {
     "name": "stdout",
     "output_type": "stream",
     "text": [
      "harvested-area a\n",
      "42\n",
      "harvested-area h\n",
      "42\n",
      "harvested-area i\n",
      "42\n",
      "harvested-area l\n",
      "42\n",
      "harvested-area r\n",
      "42\n",
      "harvested-area s\n",
      "42\n",
      "physical-area a\n",
      "42\n",
      "physical-area h\n",
      "42\n",
      "physical-area i\n",
      "42\n",
      "physical-area l\n",
      "42\n",
      "physical-area r\n",
      "42\n",
      "physical-area s\n",
      "42\n",
      "production a\n",
      "42\n",
      "production h\n",
      "42\n",
      "production i\n",
      "42\n",
      "production l\n",
      "42\n",
      "production r\n",
      "42\n",
      "production s\n",
      "42\n",
      "yield a\n",
      "42\n",
      "yield h\n",
      "42\n",
      "yield i\n",
      "42\n",
      "yield l\n",
      "42\n",
      "yield r\n",
      "42\n",
      "yield s\n",
      "42\n"
     ]
    }
   ],
   "source": [
    "for variable in variables:\n",
    "    for tech in techs:\n",
    "        print(variable,tech)\n",
    "        ic_filter = ic.filterMetadata(\"technology_short\",\"equals\",tech) \\\n",
    "                      .filterMetadata(\"variable\",\"equals\",variable)\n",
    "        reducer = ee.Reducer.sum()\n",
    "        print(ic_filter.size().getInfo())\n",
    "        i_sum = ic_filter.reduce(reducer)\n",
    "        \n",
    "        i_meta = ee.Image(ic_filter.first())\n",
    "        \n",
    "        i_sum = i_sum.copyProperties(source=i_meta,\n",
    "                                     exclude=[\"crop_color\",\n",
    "                                              \"crop_group\",\n",
    "                                              \"crop_group_color\",\n",
    "                                              \"crop_name\",\n",
    "                                              \"crop_type\",\n",
    "                                              \"crop_number\",\n",
    "                                              \"extent\"])\n",
    "        i_sum = ee.Image(i_sum)\n",
    "        i_sum = i_sum.set({\"crop_name\":\"all crops\",\n",
    "                           \"crop_name_short\":\"all\",\n",
    "                           \"extent\":\"global_nopolar\"})\n",
    "        i_sum = i_sum.set(EXTRA_PARAMS)\n",
    "        \n",
    "        description = \"spam2010v1r0_globalnopolar_{}_all_{}\".format(variable,tech)\n",
    "        asset_id = \"{}/mapspam2010v1r0/{}\".format(EE_OUTPUT_PATH,description)\n",
    "        \n",
    "        \n",
    "        task = ee.batch.Export.image.toAsset(\n",
    "                image =  ee.Image(i_sum),\n",
    "                description = description,\n",
    "                assetId = asset_id,\n",
    "                crs = CRS,\n",
    "                crsTransform = CRS_TRANSFORM_5MIN_NOPOLAR,\n",
    "                #region= global_region_client,\n",
    "                dimensions=dimensions_5min_nopolar,\n",
    "                maxPixels = 1e10   \n",
    "        )\n",
    "        task.start()\n",
    "        "
   ]
  },
  {
   "cell_type": "code",
   "execution_count": 12,
   "metadata": {},
   "outputs": [
    {
     "name": "stdout",
     "output_type": "stream",
     "text": [
      "0:01:02.898908\n"
     ]
    }
   ],
   "source": [
    "end = datetime.datetime.now()\n",
    "elapsed = end - start\n",
    "print(elapsed)"
   ]
  },
  {
   "cell_type": "markdown",
   "metadata": {},
   "source": [
    "previous run:  \n",
    "0:01:02.898908\n",
    "\n"
   ]
  },
  {
   "cell_type": "code",
   "execution_count": null,
   "metadata": {
    "collapsed": true
   },
   "outputs": [],
   "source": []
  }
 ],
 "metadata": {
  "kernelspec": {
   "display_name": "Python 35",
   "language": "python",
   "name": "python35"
  },
  "language_info": {
   "codemirror_mode": {
    "name": "ipython",
    "version": 3
   },
   "file_extension": ".py",
   "mimetype": "text/x-python",
   "name": "python",
   "nbconvert_exporter": "python",
   "pygments_lexer": "ipython3",
   "version": "3.5.4"
  }
 },
 "nbformat": 4,
 "nbformat_minor": 2
}

{
 "cells": [
  {
   "cell_type": "markdown",
   "metadata": {},
   "source": [
    "## Script order\n",
    "\n",
    "\n",
    "\n",
    "1. **Y2019M06D17_RH_Ingest_MAPSPAM_EE_V01**  \n",
    "    Ingest MAPSPAM 2010 data into earthengine\n",
    "1. **Y2019M06D24_RH_Aggregate_Crops_Mapspam_EE_V01**  \n",
    "    Create all crops aggregates for selected variables.\n",
    "    \n",
    "\n"
   ]
  }
 ],
 "metadata": {
  "kernelspec": {
   "display_name": "Python 35",
   "language": "python",
   "name": "python35"
  },
  "language_info": {
   "codemirror_mode": {
    "name": "ipython",
    "version": 3
   },
   "file_extension": ".py",
   "mimetype": "text/x-python",
   "name": "python",
   "nbconvert_exporter": "python",
   "pygments_lexer": "ipython3",
   "version": "3.5.4"
  }
 },
 "nbformat": 4,
 "nbformat_minor": 2
}

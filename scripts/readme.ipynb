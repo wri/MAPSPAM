{
 "cells": [
  {
   "cell_type": "markdown",
   "metadata": {},
   "source": [
    "## Script order\n",
    "\n",
    "\n",
    "\n",
    "1. **Y2019M06D17_RH_Ingest_MAPSPAM_EE_V01**  \n",
    "    Ingest MAPSPAM 2010 data into earthengine\n",
    "1. **Y2019M06D24_RH_Aggregate_Crops_Mapspam_EE_V01**  \n",
    "    Create all crops aggregates for selected variables.\n",
    "1. **Y2019M09D04_RH_Ingest_MAPSPAM_GBQ_V01**  \n",
    "    Ingest Mapspam 2010 data into google bigquery.\n",
    "1. **Y2019M10D29_RH_MAPSPAM_AQ30_V01**  \n",
    "    Join Aqueduct 30 data to MAPSPAM and upload to gbq.\n",
    "    \n",
    "\n"
   ]
  }
 ],
 "metadata": {
  "kernelspec": {
   "display_name": "Python 35",
   "language": "python",
   "name": "python35"
  },
  "language_info": {
   "codemirror_mode": {
    "name": "ipython",
    "version": 3
   },
   "file_extension": ".py",
   "mimetype": "text/x-python",
   "name": "python",
   "nbconvert_exporter": "python",
   "pygments_lexer": "ipython3",
   "version": "3.5.4"
  }
 },
 "nbformat": 4,
 "nbformat_minor": 2
}
